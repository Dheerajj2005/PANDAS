{
 "cells": [
  {
   "cell_type": "markdown",
   "id": "79aae666",
   "metadata": {},
   "source": [
    "## Pandas Function"
   ]
  },
  {
   "cell_type": "code",
   "execution_count": 1,
   "id": "acb8acae",
   "metadata": {},
   "outputs": [
    {
     "data": {
      "text/html": [
       "<div>\n",
       "<style scoped>\n",
       "    .dataframe tbody tr th:only-of-type {\n",
       "        vertical-align: middle;\n",
       "    }\n",
       "\n",
       "    .dataframe tbody tr th {\n",
       "        vertical-align: top;\n",
       "    }\n",
       "\n",
       "    .dataframe thead th {\n",
       "        text-align: right;\n",
       "    }\n",
       "</style>\n",
       "<table border=\"1\" class=\"dataframe\">\n",
       "  <thead>\n",
       "    <tr style=\"text-align: right;\">\n",
       "      <th></th>\n",
       "      <th>Username</th>\n",
       "      <th>Identifier</th>\n",
       "      <th>First name</th>\n",
       "      <th>Last name</th>\n",
       "      <th>Salary</th>\n",
       "    </tr>\n",
       "  </thead>\n",
       "  <tbody>\n",
       "    <tr>\n",
       "      <th>0</th>\n",
       "      <td>booker12</td>\n",
       "      <td>9012</td>\n",
       "      <td>Rachel</td>\n",
       "      <td>Booker</td>\n",
       "      <td>1234</td>\n",
       "    </tr>\n",
       "    <tr>\n",
       "      <th>1</th>\n",
       "      <td>grey07</td>\n",
       "      <td>grey07</td>\n",
       "      <td>Laura</td>\n",
       "      <td>Grey</td>\n",
       "      <td>54678</td>\n",
       "    </tr>\n",
       "    <tr>\n",
       "      <th>2</th>\n",
       "      <td>johnson81</td>\n",
       "      <td>4081</td>\n",
       "      <td>Craig</td>\n",
       "      <td>Johnson</td>\n",
       "      <td>782156</td>\n",
       "    </tr>\n",
       "    <tr>\n",
       "      <th>3</th>\n",
       "      <td>jenkins46</td>\n",
       "      <td>9346</td>\n",
       "      <td>Mary</td>\n",
       "      <td>Jenkins</td>\n",
       "      <td>487544</td>\n",
       "    </tr>\n",
       "    <tr>\n",
       "      <th>4</th>\n",
       "      <td>smith79</td>\n",
       "      <td>5079</td>\n",
       "      <td>Jamie</td>\n",
       "      <td>Smith</td>\n",
       "      <td>123248</td>\n",
       "    </tr>\n",
       "  </tbody>\n",
       "</table>\n",
       "</div>"
      ],
      "text/plain": [
       "    Username  Identifier First name Last name  Salary\n",
       "0    booker12       9012     Rachel    Booker    1234\n",
       "1      grey07    grey07      Laura       Grey   54678\n",
       "2  johnson81        4081      Craig   Johnson  782156\n",
       "3  jenkins46        9346      Mary    Jenkins  487544\n",
       "4    smith79        5079      Jamie     Smith  123248"
      ]
     },
     "execution_count": 1,
     "metadata": {},
     "output_type": "execute_result"
    }
   ],
   "source": [
    "import pandas as pd\n",
    "\n",
    "csv1 = pd.read_csv(\"username.csv\")\n",
    "csv1"
   ]
  },
  {
   "cell_type": "code",
   "execution_count": 2,
   "id": "db22ff80",
   "metadata": {},
   "outputs": [
    {
     "data": {
      "text/plain": [
       "RangeIndex(start=0, stop=5, step=1)"
      ]
     },
     "execution_count": 2,
     "metadata": {},
     "output_type": "execute_result"
    }
   ],
   "source": [
    "# If there is large amt of data it would be hard to know index of each data by scrolling so use \n",
    "csv1.index"
   ]
  },
  {
   "cell_type": "code",
   "execution_count": 3,
   "id": "fa7a3ad2",
   "metadata": {},
   "outputs": [
    {
     "data": {
      "text/plain": [
       "Index(['Username ', 'Identifier', 'First name', 'Last name', 'Salary'], dtype='object')"
      ]
     },
     "execution_count": 3,
     "metadata": {},
     "output_type": "execute_result"
    }
   ],
   "source": [
    "# If u want to know the name of all columns\n",
    "csv1.columns"
   ]
  },
  {
   "cell_type": "code",
   "execution_count": 5,
   "id": "973e0c05",
   "metadata": {},
   "outputs": [
    {
     "data": {
      "text/html": [
       "<div>\n",
       "<style scoped>\n",
       "    .dataframe tbody tr th:only-of-type {\n",
       "        vertical-align: middle;\n",
       "    }\n",
       "\n",
       "    .dataframe tbody tr th {\n",
       "        vertical-align: top;\n",
       "    }\n",
       "\n",
       "    .dataframe thead th {\n",
       "        text-align: right;\n",
       "    }\n",
       "</style>\n",
       "<table border=\"1\" class=\"dataframe\">\n",
       "  <thead>\n",
       "    <tr style=\"text-align: right;\">\n",
       "      <th></th>\n",
       "      <th>Salary</th>\n",
       "    </tr>\n",
       "  </thead>\n",
       "  <tbody>\n",
       "    <tr>\n",
       "      <th>count</th>\n",
       "      <td>5.00000</td>\n",
       "    </tr>\n",
       "    <tr>\n",
       "      <th>mean</th>\n",
       "      <td>289772.00000</td>\n",
       "    </tr>\n",
       "    <tr>\n",
       "      <th>std</th>\n",
       "      <td>334592.80338</td>\n",
       "    </tr>\n",
       "    <tr>\n",
       "      <th>min</th>\n",
       "      <td>1234.00000</td>\n",
       "    </tr>\n",
       "    <tr>\n",
       "      <th>25%</th>\n",
       "      <td>54678.00000</td>\n",
       "    </tr>\n",
       "    <tr>\n",
       "      <th>50%</th>\n",
       "      <td>123248.00000</td>\n",
       "    </tr>\n",
       "    <tr>\n",
       "      <th>75%</th>\n",
       "      <td>487544.00000</td>\n",
       "    </tr>\n",
       "    <tr>\n",
       "      <th>max</th>\n",
       "      <td>782156.00000</td>\n",
       "    </tr>\n",
       "  </tbody>\n",
       "</table>\n",
       "</div>"
      ],
      "text/plain": [
       "             Salary\n",
       "count       5.00000\n",
       "mean   289772.00000\n",
       "std    334592.80338\n",
       "min      1234.00000\n",
       "25%     54678.00000\n",
       "50%    123248.00000\n",
       "75%    487544.00000\n",
       "max    782156.00000"
      ]
     },
     "execution_count": 5,
     "metadata": {},
     "output_type": "execute_result"
    }
   ],
   "source": [
    "# It gives matheaticall values \n",
    "csv1.describe()"
   ]
  },
  {
   "cell_type": "code",
   "execution_count": 7,
   "id": "3cf0e451",
   "metadata": {},
   "outputs": [
    {
     "data": {
      "text/html": [
       "<div>\n",
       "<style scoped>\n",
       "    .dataframe tbody tr th:only-of-type {\n",
       "        vertical-align: middle;\n",
       "    }\n",
       "\n",
       "    .dataframe tbody tr th {\n",
       "        vertical-align: top;\n",
       "    }\n",
       "\n",
       "    .dataframe thead th {\n",
       "        text-align: right;\n",
       "    }\n",
       "</style>\n",
       "<table border=\"1\" class=\"dataframe\">\n",
       "  <thead>\n",
       "    <tr style=\"text-align: right;\">\n",
       "      <th></th>\n",
       "      <th>Username</th>\n",
       "      <th>Identifier</th>\n",
       "      <th>First name</th>\n",
       "      <th>Last name</th>\n",
       "      <th>Salary</th>\n",
       "    </tr>\n",
       "  </thead>\n",
       "  <tbody>\n",
       "    <tr>\n",
       "      <th>0</th>\n",
       "      <td>booker12</td>\n",
       "      <td>9012</td>\n",
       "      <td>Rachel</td>\n",
       "      <td>Booker</td>\n",
       "      <td>1234</td>\n",
       "    </tr>\n",
       "    <tr>\n",
       "      <th>1</th>\n",
       "      <td>grey07</td>\n",
       "      <td>grey07</td>\n",
       "      <td>Laura</td>\n",
       "      <td>Grey</td>\n",
       "      <td>54678</td>\n",
       "    </tr>\n",
       "  </tbody>\n",
       "</table>\n",
       "</div>"
      ],
      "text/plain": [
       "  Username  Identifier First name Last name  Salary\n",
       "0  booker12       9012     Rachel    Booker    1234\n",
       "1    grey07    grey07      Laura       Grey   54678"
      ]
     },
     "execution_count": 7,
     "metadata": {},
     "output_type": "execute_result"
    }
   ],
   "source": [
    "# If u only want starting some data \n",
    "csv1.head(2)"
   ]
  },
  {
   "cell_type": "code",
   "execution_count": 8,
   "id": "8e31ea9f",
   "metadata": {},
   "outputs": [
    {
     "data": {
      "text/html": [
       "<div>\n",
       "<style scoped>\n",
       "    .dataframe tbody tr th:only-of-type {\n",
       "        vertical-align: middle;\n",
       "    }\n",
       "\n",
       "    .dataframe tbody tr th {\n",
       "        vertical-align: top;\n",
       "    }\n",
       "\n",
       "    .dataframe thead th {\n",
       "        text-align: right;\n",
       "    }\n",
       "</style>\n",
       "<table border=\"1\" class=\"dataframe\">\n",
       "  <thead>\n",
       "    <tr style=\"text-align: right;\">\n",
       "      <th></th>\n",
       "      <th>Username</th>\n",
       "      <th>Identifier</th>\n",
       "      <th>First name</th>\n",
       "      <th>Last name</th>\n",
       "      <th>Salary</th>\n",
       "    </tr>\n",
       "  </thead>\n",
       "  <tbody>\n",
       "    <tr>\n",
       "      <th>3</th>\n",
       "      <td>jenkins46</td>\n",
       "      <td>9346</td>\n",
       "      <td>Mary</td>\n",
       "      <td>Jenkins</td>\n",
       "      <td>487544</td>\n",
       "    </tr>\n",
       "    <tr>\n",
       "      <th>4</th>\n",
       "      <td>smith79</td>\n",
       "      <td>5079</td>\n",
       "      <td>Jamie</td>\n",
       "      <td>Smith</td>\n",
       "      <td>123248</td>\n",
       "    </tr>\n",
       "  </tbody>\n",
       "</table>\n",
       "</div>"
      ],
      "text/plain": [
       "    Username  Identifier First name Last name  Salary\n",
       "3  jenkins46        9346      Mary    Jenkins  487544\n",
       "4    smith79        5079      Jamie     Smith  123248"
      ]
     },
     "execution_count": 8,
     "metadata": {},
     "output_type": "execute_result"
    }
   ],
   "source": [
    "# If u only want ending some data \n",
    "csv1.tail(2)"
   ]
  },
  {
   "cell_type": "code",
   "execution_count": 10,
   "id": "0d71feb5",
   "metadata": {},
   "outputs": [
    {
     "data": {
      "text/html": [
       "<div>\n",
       "<style scoped>\n",
       "    .dataframe tbody tr th:only-of-type {\n",
       "        vertical-align: middle;\n",
       "    }\n",
       "\n",
       "    .dataframe tbody tr th {\n",
       "        vertical-align: top;\n",
       "    }\n",
       "\n",
       "    .dataframe thead th {\n",
       "        text-align: right;\n",
       "    }\n",
       "</style>\n",
       "<table border=\"1\" class=\"dataframe\">\n",
       "  <thead>\n",
       "    <tr style=\"text-align: right;\">\n",
       "      <th></th>\n",
       "      <th>Username</th>\n",
       "      <th>Identifier</th>\n",
       "      <th>First name</th>\n",
       "      <th>Last name</th>\n",
       "      <th>Salary</th>\n",
       "    </tr>\n",
       "  </thead>\n",
       "  <tbody>\n",
       "    <tr>\n",
       "      <th>0</th>\n",
       "      <td>booker12</td>\n",
       "      <td>9012</td>\n",
       "      <td>Rachel</td>\n",
       "      <td>Booker</td>\n",
       "      <td>1234</td>\n",
       "    </tr>\n",
       "    <tr>\n",
       "      <th>1</th>\n",
       "      <td>grey07</td>\n",
       "      <td>grey07</td>\n",
       "      <td>Laura</td>\n",
       "      <td>Grey</td>\n",
       "      <td>54678</td>\n",
       "    </tr>\n",
       "    <tr>\n",
       "      <th>2</th>\n",
       "      <td>johnson81</td>\n",
       "      <td>4081</td>\n",
       "      <td>Craig</td>\n",
       "      <td>Johnson</td>\n",
       "      <td>782156</td>\n",
       "    </tr>\n",
       "  </tbody>\n",
       "</table>\n",
       "</div>"
      ],
      "text/plain": [
       "    Username  Identifier First name Last name  Salary\n",
       "0    booker12       9012     Rachel    Booker    1234\n",
       "1      grey07    grey07      Laura       Grey   54678\n",
       "2  johnson81        4081      Craig   Johnson  782156"
      ]
     },
     "execution_count": 10,
     "metadata": {},
     "output_type": "execute_result"
    }
   ],
   "source": [
    "# U can also use string slicing technique to get particular row\n",
    "csv1[:3]"
   ]
  },
  {
   "cell_type": "code",
   "execution_count": 11,
   "id": "ba49eab3",
   "metadata": {},
   "outputs": [
    {
     "data": {
      "text/html": [
       "<div>\n",
       "<style scoped>\n",
       "    .dataframe tbody tr th:only-of-type {\n",
       "        vertical-align: middle;\n",
       "    }\n",
       "\n",
       "    .dataframe tbody tr th {\n",
       "        vertical-align: top;\n",
       "    }\n",
       "\n",
       "    .dataframe thead th {\n",
       "        text-align: right;\n",
       "    }\n",
       "</style>\n",
       "<table border=\"1\" class=\"dataframe\">\n",
       "  <thead>\n",
       "    <tr style=\"text-align: right;\">\n",
       "      <th></th>\n",
       "      <th>Username</th>\n",
       "      <th>Identifier</th>\n",
       "      <th>First name</th>\n",
       "      <th>Last name</th>\n",
       "      <th>Salary</th>\n",
       "    </tr>\n",
       "  </thead>\n",
       "  <tbody>\n",
       "    <tr>\n",
       "      <th>1</th>\n",
       "      <td>grey07</td>\n",
       "      <td>grey07</td>\n",
       "      <td>Laura</td>\n",
       "      <td>Grey</td>\n",
       "      <td>54678</td>\n",
       "    </tr>\n",
       "    <tr>\n",
       "      <th>2</th>\n",
       "      <td>johnson81</td>\n",
       "      <td>4081</td>\n",
       "      <td>Craig</td>\n",
       "      <td>Johnson</td>\n",
       "      <td>782156</td>\n",
       "    </tr>\n",
       "    <tr>\n",
       "      <th>3</th>\n",
       "      <td>jenkins46</td>\n",
       "      <td>9346</td>\n",
       "      <td>Mary</td>\n",
       "      <td>Jenkins</td>\n",
       "      <td>487544</td>\n",
       "    </tr>\n",
       "  </tbody>\n",
       "</table>\n",
       "</div>"
      ],
      "text/plain": [
       "    Username  Identifier First name Last name  Salary\n",
       "1      grey07    grey07      Laura       Grey   54678\n",
       "2  johnson81        4081      Craig   Johnson  782156\n",
       "3  jenkins46        9346      Mary    Jenkins  487544"
      ]
     },
     "execution_count": 11,
     "metadata": {},
     "output_type": "execute_result"
    }
   ],
   "source": [
    "# I want data from 1 to 3\n",
    "csv1[1:4]"
   ]
  },
  {
   "cell_type": "code",
   "execution_count": 12,
   "id": "13c94272",
   "metadata": {},
   "outputs": [
    {
     "data": {
      "text/plain": [
       "<PandasArray>\n",
       "[0, 1, 2, 3, 4]\n",
       "Length: 5, dtype: int64"
      ]
     },
     "execution_count": 12,
     "metadata": {},
     "output_type": "execute_result"
    }
   ],
   "source": [
    "# To change the index number into array \n",
    "csv1.index.array"
   ]
  },
  {
   "cell_type": "code",
   "execution_count": 13,
   "id": "a188b5c2",
   "metadata": {},
   "outputs": [
    {
     "data": {
      "text/plain": [
       "array([['booker12', '9012', ' Rachel', ' Booker', 1234],\n",
       "       ['grey07', 'grey07 ', 'Laura ', 'Grey', 54678],\n",
       "       ['johnson81 ', '4081', ' Craig', ' Johnson', 782156],\n",
       "       ['jenkins46 ', '9346', 'Mary ', 'Jenkins', 487544],\n",
       "       ['smith79 ', '5079', 'Jamie', ' Smith', 123248]], dtype=object)"
      ]
     },
     "execution_count": 13,
     "metadata": {},
     "output_type": "execute_result"
    }
   ],
   "source": [
    "# U can convert all this data into numpy array\n",
    "csv1.to_numpy()"
   ]
  },
  {
   "cell_type": "code",
   "execution_count": 15,
   "id": "911280c5",
   "metadata": {},
   "outputs": [
    {
     "name": "stdout",
     "output_type": "stream",
     "text": [
      "[['booker12' '9012' ' Rachel' ' Booker' 1234]\n",
      " ['grey07' 'grey07 ' 'Laura ' 'Grey' 54678]\n",
      " ['johnson81 ' '4081' ' Craig' ' Johnson' 782156]\n",
      " ['jenkins46 ' '9346' 'Mary ' 'Jenkins' 487544]\n",
      " ['smith79 ' '5079' 'Jamie' ' Smith' 123248]]\n"
     ]
    }
   ],
   "source": [
    "# Second way to convert in numpy array\n",
    "import numpy as np\n",
    "v = np.asarray(csv1)\n",
    "print(v)"
   ]
  },
  {
   "cell_type": "code",
   "execution_count": 3,
   "id": "100ee042",
   "metadata": {},
   "outputs": [
    {
     "data": {
      "text/html": [
       "<div>\n",
       "<style scoped>\n",
       "    .dataframe tbody tr th:only-of-type {\n",
       "        vertical-align: middle;\n",
       "    }\n",
       "\n",
       "    .dataframe tbody tr th {\n",
       "        vertical-align: top;\n",
       "    }\n",
       "\n",
       "    .dataframe thead th {\n",
       "        text-align: right;\n",
       "    }\n",
       "</style>\n",
       "<table border=\"1\" class=\"dataframe\">\n",
       "  <thead>\n",
       "    <tr style=\"text-align: right;\">\n",
       "      <th></th>\n",
       "      <th>Username</th>\n",
       "      <th>Identifier</th>\n",
       "      <th>First name</th>\n",
       "      <th>Last name</th>\n",
       "      <th>Salary</th>\n",
       "    </tr>\n",
       "  </thead>\n",
       "  <tbody>\n",
       "    <tr>\n",
       "      <th>4</th>\n",
       "      <td>smith79</td>\n",
       "      <td>5079</td>\n",
       "      <td>Jamie</td>\n",
       "      <td>Smith</td>\n",
       "      <td>123248</td>\n",
       "    </tr>\n",
       "    <tr>\n",
       "      <th>3</th>\n",
       "      <td>jenkins46</td>\n",
       "      <td>9346</td>\n",
       "      <td>Mary</td>\n",
       "      <td>Jenkins</td>\n",
       "      <td>487544</td>\n",
       "    </tr>\n",
       "    <tr>\n",
       "      <th>2</th>\n",
       "      <td>johnson81</td>\n",
       "      <td>4081</td>\n",
       "      <td>Craig</td>\n",
       "      <td>Johnson</td>\n",
       "      <td>782156</td>\n",
       "    </tr>\n",
       "    <tr>\n",
       "      <th>1</th>\n",
       "      <td>grey07</td>\n",
       "      <td>grey07</td>\n",
       "      <td>Laura</td>\n",
       "      <td>Grey</td>\n",
       "      <td>54678</td>\n",
       "    </tr>\n",
       "    <tr>\n",
       "      <th>0</th>\n",
       "      <td>booker12</td>\n",
       "      <td>9012</td>\n",
       "      <td>Rachel</td>\n",
       "      <td>Booker</td>\n",
       "      <td>1234</td>\n",
       "    </tr>\n",
       "  </tbody>\n",
       "</table>\n",
       "</div>"
      ],
      "text/plain": [
       "    Username  Identifier First name Last name  Salary\n",
       "4    smith79        5079      Jamie     Smith  123248\n",
       "3  jenkins46        9346      Mary    Jenkins  487544\n",
       "2  johnson81        4081      Craig   Johnson  782156\n",
       "1      grey07    grey07      Laura       Grey   54678\n",
       "0    booker12       9012     Rachel    Booker    1234"
      ]
     },
     "execution_count": 3,
     "metadata": {},
     "output_type": "execute_result"
    }
   ],
   "source": [
    "# Here the data is in ascending order od index number to make it descending and axis = 0 means along row\n",
    "csv1.sort_index(axis = 0, ascending = False)"
   ]
  },
  {
   "cell_type": "code",
   "execution_count": 4,
   "id": "5b3139c1",
   "metadata": {},
   "outputs": [
    {
     "data": {
      "text/html": [
       "<div>\n",
       "<style scoped>\n",
       "    .dataframe tbody tr th:only-of-type {\n",
       "        vertical-align: middle;\n",
       "    }\n",
       "\n",
       "    .dataframe tbody tr th {\n",
       "        vertical-align: top;\n",
       "    }\n",
       "\n",
       "    .dataframe thead th {\n",
       "        text-align: right;\n",
       "    }\n",
       "</style>\n",
       "<table border=\"1\" class=\"dataframe\">\n",
       "  <thead>\n",
       "    <tr style=\"text-align: right;\">\n",
       "      <th></th>\n",
       "      <th>Username</th>\n",
       "      <th>Identifier</th>\n",
       "      <th>First name</th>\n",
       "      <th>Last name</th>\n",
       "      <th>Salary</th>\n",
       "    </tr>\n",
       "  </thead>\n",
       "  <tbody>\n",
       "    <tr>\n",
       "      <th>0</th>\n",
       "      <td>booker12</td>\n",
       "      <td>9012</td>\n",
       "      <td>Rachel</td>\n",
       "      <td>Booker</td>\n",
       "      <td>1234</td>\n",
       "    </tr>\n",
       "    <tr>\n",
       "      <th>1</th>\n",
       "      <td>grey07</td>\n",
       "      <td>grey07</td>\n",
       "      <td>Laura</td>\n",
       "      <td>Grey</td>\n",
       "      <td>54678</td>\n",
       "    </tr>\n",
       "    <tr>\n",
       "      <th>2</th>\n",
       "      <td>johnson81</td>\n",
       "      <td>4081</td>\n",
       "      <td>Craig</td>\n",
       "      <td>Johnson</td>\n",
       "      <td>782156</td>\n",
       "    </tr>\n",
       "    <tr>\n",
       "      <th>3</th>\n",
       "      <td>jenkins46</td>\n",
       "      <td>9346</td>\n",
       "      <td>Mary</td>\n",
       "      <td>Jenkins</td>\n",
       "      <td>487544</td>\n",
       "    </tr>\n",
       "    <tr>\n",
       "      <th>4</th>\n",
       "      <td>smith79</td>\n",
       "      <td>5079</td>\n",
       "      <td>Jamie</td>\n",
       "      <td>Smith</td>\n",
       "      <td>123248</td>\n",
       "    </tr>\n",
       "  </tbody>\n",
       "</table>\n",
       "</div>"
      ],
      "text/plain": [
       "    Username  Identifier First name Last name  Salary\n",
       "0    booker12       9012     Rachel    Booker    1234\n",
       "1      grey07    grey07      Laura       Grey   54678\n",
       "2  johnson81        4081      Craig   Johnson  782156\n",
       "3  jenkins46        9346      Mary    Jenkins  487544\n",
       "4    smith79        5079      Jamie     Smith  123248"
      ]
     },
     "execution_count": 4,
     "metadata": {},
     "output_type": "execute_result"
    }
   ],
   "source": [
    "csv1.sort_index(axis = 0, ascending = True)"
   ]
  },
  {
   "cell_type": "code",
   "execution_count": 5,
   "id": "ac2b73cc",
   "metadata": {},
   "outputs": [
    {
     "data": {
      "text/html": [
       "<div>\n",
       "<style scoped>\n",
       "    .dataframe tbody tr th:only-of-type {\n",
       "        vertical-align: middle;\n",
       "    }\n",
       "\n",
       "    .dataframe tbody tr th {\n",
       "        vertical-align: top;\n",
       "    }\n",
       "\n",
       "    .dataframe thead th {\n",
       "        text-align: right;\n",
       "    }\n",
       "</style>\n",
       "<table border=\"1\" class=\"dataframe\">\n",
       "  <thead>\n",
       "    <tr style=\"text-align: right;\">\n",
       "      <th></th>\n",
       "      <th>Username</th>\n",
       "      <th>Identifier</th>\n",
       "      <th>First name</th>\n",
       "      <th>Last name</th>\n",
       "      <th>Salary</th>\n",
       "    </tr>\n",
       "  </thead>\n",
       "  <tbody>\n",
       "    <tr>\n",
       "      <th>0</th>\n",
       "      <td>booker12</td>\n",
       "      <td>9012</td>\n",
       "      <td>Rachel</td>\n",
       "      <td>Booker</td>\n",
       "      <td>1234</td>\n",
       "    </tr>\n",
       "    <tr>\n",
       "      <th>1</th>\n",
       "      <td>grey07</td>\n",
       "      <td>grey07</td>\n",
       "      <td>dheeraj</td>\n",
       "      <td>Grey</td>\n",
       "      <td>54678</td>\n",
       "    </tr>\n",
       "    <tr>\n",
       "      <th>2</th>\n",
       "      <td>johnson81</td>\n",
       "      <td>4081</td>\n",
       "      <td>Craig</td>\n",
       "      <td>Johnson</td>\n",
       "      <td>782156</td>\n",
       "    </tr>\n",
       "    <tr>\n",
       "      <th>3</th>\n",
       "      <td>jenkins46</td>\n",
       "      <td>9346</td>\n",
       "      <td>Mary</td>\n",
       "      <td>Jenkins</td>\n",
       "      <td>487544</td>\n",
       "    </tr>\n",
       "    <tr>\n",
       "      <th>4</th>\n",
       "      <td>smith79</td>\n",
       "      <td>5079</td>\n",
       "      <td>Jamie</td>\n",
       "      <td>Smith</td>\n",
       "      <td>123248</td>\n",
       "    </tr>\n",
       "  </tbody>\n",
       "</table>\n",
       "</div>"
      ],
      "text/plain": [
       "    Username  Identifier First name Last name  Salary\n",
       "0    booker12       9012     Rachel    Booker    1234\n",
       "1      grey07    grey07     dheeraj      Grey   54678\n",
       "2  johnson81        4081      Craig   Johnson  782156\n",
       "3  jenkins46        9346      Mary    Jenkins  487544\n",
       "4    smith79        5079      Jamie     Smith  123248"
      ]
     },
     "execution_count": 5,
     "metadata": {},
     "output_type": "execute_result"
    }
   ],
   "source": [
    "# If u want to make any changes suppose laura to dheeraj \n",
    "csv1.loc[1,\"First name\"] = \"dheeraj\"\n",
    "csv1"
   ]
  },
  {
   "cell_type": "code",
   "execution_count": 6,
   "id": "2b9af306",
   "metadata": {},
   "outputs": [
    {
     "data": {
      "text/html": [
       "<div>\n",
       "<style scoped>\n",
       "    .dataframe tbody tr th:only-of-type {\n",
       "        vertical-align: middle;\n",
       "    }\n",
       "\n",
       "    .dataframe tbody tr th {\n",
       "        vertical-align: top;\n",
       "    }\n",
       "\n",
       "    .dataframe thead th {\n",
       "        text-align: right;\n",
       "    }\n",
       "</style>\n",
       "<table border=\"1\" class=\"dataframe\">\n",
       "  <thead>\n",
       "    <tr style=\"text-align: right;\">\n",
       "      <th></th>\n",
       "      <th>First name</th>\n",
       "      <th>Last name</th>\n",
       "    </tr>\n",
       "  </thead>\n",
       "  <tbody>\n",
       "    <tr>\n",
       "      <th>2</th>\n",
       "      <td>Craig</td>\n",
       "      <td>Johnson</td>\n",
       "    </tr>\n",
       "    <tr>\n",
       "      <th>3</th>\n",
       "      <td>Mary</td>\n",
       "      <td>Jenkins</td>\n",
       "    </tr>\n",
       "  </tbody>\n",
       "</table>\n",
       "</div>"
      ],
      "text/plain": [
       "  First name Last name\n",
       "2      Craig   Johnson\n",
       "3      Mary    Jenkins"
      ]
     },
     "execution_count": 6,
     "metadata": {},
     "output_type": "execute_result"
    }
   ],
   "source": [
    "# If u want more particular data \n",
    "csv1.loc[[2,3],[\"First name\",\"Last name\"]]"
   ]
  },
  {
   "cell_type": "code",
   "execution_count": 7,
   "id": "c59847bd",
   "metadata": {},
   "outputs": [
    {
     "data": {
      "text/html": [
       "<div>\n",
       "<style scoped>\n",
       "    .dataframe tbody tr th:only-of-type {\n",
       "        vertical-align: middle;\n",
       "    }\n",
       "\n",
       "    .dataframe tbody tr th {\n",
       "        vertical-align: top;\n",
       "    }\n",
       "\n",
       "    .dataframe thead th {\n",
       "        text-align: right;\n",
       "    }\n",
       "</style>\n",
       "<table border=\"1\" class=\"dataframe\">\n",
       "  <thead>\n",
       "    <tr style=\"text-align: right;\">\n",
       "      <th></th>\n",
       "      <th>First name</th>\n",
       "      <th>Last name</th>\n",
       "    </tr>\n",
       "  </thead>\n",
       "  <tbody>\n",
       "    <tr>\n",
       "      <th>0</th>\n",
       "      <td>Rachel</td>\n",
       "      <td>Booker</td>\n",
       "    </tr>\n",
       "    <tr>\n",
       "      <th>1</th>\n",
       "      <td>dheeraj</td>\n",
       "      <td>Grey</td>\n",
       "    </tr>\n",
       "    <tr>\n",
       "      <th>2</th>\n",
       "      <td>Craig</td>\n",
       "      <td>Johnson</td>\n",
       "    </tr>\n",
       "    <tr>\n",
       "      <th>3</th>\n",
       "      <td>Mary</td>\n",
       "      <td>Jenkins</td>\n",
       "    </tr>\n",
       "    <tr>\n",
       "      <th>4</th>\n",
       "      <td>Jamie</td>\n",
       "      <td>Smith</td>\n",
       "    </tr>\n",
       "  </tbody>\n",
       "</table>\n",
       "</div>"
      ],
      "text/plain": [
       "  First name Last name\n",
       "0     Rachel    Booker\n",
       "1    dheeraj      Grey\n",
       "2      Craig   Johnson\n",
       "3      Mary    Jenkins\n",
       "4      Jamie     Smith"
      ]
     },
     "execution_count": 7,
     "metadata": {},
     "output_type": "execute_result"
    }
   ],
   "source": [
    "# If u only want first and last name \n",
    "csv1.loc[:,[\"First name\",\"Last name\"]]"
   ]
  },
  {
   "cell_type": "code",
   "execution_count": 26,
   "id": "80e1ed7b",
   "metadata": {},
   "outputs": [
    {
     "data": {
      "text/html": [
       "<div>\n",
       "<style scoped>\n",
       "    .dataframe tbody tr th:only-of-type {\n",
       "        vertical-align: middle;\n",
       "    }\n",
       "\n",
       "    .dataframe tbody tr th {\n",
       "        vertical-align: top;\n",
       "    }\n",
       "\n",
       "    .dataframe thead th {\n",
       "        text-align: right;\n",
       "    }\n",
       "</style>\n",
       "<table border=\"1\" class=\"dataframe\">\n",
       "  <thead>\n",
       "    <tr style=\"text-align: right;\">\n",
       "      <th></th>\n",
       "      <th>Username</th>\n",
       "      <th>Identifier</th>\n",
       "      <th>First name</th>\n",
       "      <th>Last name</th>\n",
       "      <th>Salary</th>\n",
       "      <th>Username</th>\n",
       "    </tr>\n",
       "  </thead>\n",
       "  <tbody>\n",
       "    <tr>\n",
       "      <th>2</th>\n",
       "      <td>johnson81</td>\n",
       "      <td>4081</td>\n",
       "      <td>Craig</td>\n",
       "      <td>Johnson</td>\n",
       "      <td>782156</td>\n",
       "      <td>NaN</td>\n",
       "    </tr>\n",
       "    <tr>\n",
       "      <th>3</th>\n",
       "      <td>jenkins46</td>\n",
       "      <td>9346</td>\n",
       "      <td>Mary</td>\n",
       "      <td>Jenkins</td>\n",
       "      <td>487544</td>\n",
       "      <td>NaN</td>\n",
       "    </tr>\n",
       "  </tbody>\n",
       "</table>\n",
       "</div>"
      ],
      "text/plain": [
       "    Username  Identifier First name Last name  Salary Username\n",
       "2  johnson81        4081      Craig   Johnson  782156      NaN\n",
       "3  jenkins46        9346      Mary    Jenkins  487544      NaN"
      ]
     },
     "execution_count": 26,
     "metadata": {},
     "output_type": "execute_result"
    }
   ],
   "source": [
    "# If u only want 2 and 3 \n",
    "csv1.loc[[2,3],:]"
   ]
  },
  {
   "cell_type": "code",
   "execution_count": 27,
   "id": "36815683",
   "metadata": {},
   "outputs": [
    {
     "data": {
      "text/plain": [
       "' Craig'"
      ]
     },
     "execution_count": 27,
     "metadata": {},
     "output_type": "execute_result"
    }
   ],
   "source": [
    "# If u only want any one data use iloc\n",
    "csv1.iloc[2,2]"
   ]
  },
  {
   "cell_type": "code",
   "execution_count": 8,
   "id": "d3f5480a",
   "metadata": {},
   "outputs": [
    {
     "data": {
      "text/html": [
       "<div>\n",
       "<style scoped>\n",
       "    .dataframe tbody tr th:only-of-type {\n",
       "        vertical-align: middle;\n",
       "    }\n",
       "\n",
       "    .dataframe tbody tr th {\n",
       "        vertical-align: top;\n",
       "    }\n",
       "\n",
       "    .dataframe thead th {\n",
       "        text-align: right;\n",
       "    }\n",
       "</style>\n",
       "<table border=\"1\" class=\"dataframe\">\n",
       "  <thead>\n",
       "    <tr style=\"text-align: right;\">\n",
       "      <th></th>\n",
       "      <th>Username</th>\n",
       "      <th>Identifier</th>\n",
       "      <th>First name</th>\n",
       "      <th>Last name</th>\n",
       "      <th>Salary</th>\n",
       "    </tr>\n",
       "  </thead>\n",
       "  <tbody>\n",
       "    <tr>\n",
       "      <th>1</th>\n",
       "      <td>grey07</td>\n",
       "      <td>grey07</td>\n",
       "      <td>dheeraj</td>\n",
       "      <td>Grey</td>\n",
       "      <td>54678</td>\n",
       "    </tr>\n",
       "    <tr>\n",
       "      <th>2</th>\n",
       "      <td>johnson81</td>\n",
       "      <td>4081</td>\n",
       "      <td>Craig</td>\n",
       "      <td>Johnson</td>\n",
       "      <td>782156</td>\n",
       "    </tr>\n",
       "    <tr>\n",
       "      <th>3</th>\n",
       "      <td>jenkins46</td>\n",
       "      <td>9346</td>\n",
       "      <td>Mary</td>\n",
       "      <td>Jenkins</td>\n",
       "      <td>487544</td>\n",
       "    </tr>\n",
       "    <tr>\n",
       "      <th>4</th>\n",
       "      <td>smith79</td>\n",
       "      <td>5079</td>\n",
       "      <td>Jamie</td>\n",
       "      <td>Smith</td>\n",
       "      <td>123248</td>\n",
       "    </tr>\n",
       "  </tbody>\n",
       "</table>\n",
       "</div>"
      ],
      "text/plain": [
       "    Username  Identifier First name Last name  Salary\n",
       "1      grey07    grey07     dheeraj      Grey   54678\n",
       "2  johnson81        4081      Craig   Johnson  782156\n",
       "3  jenkins46        9346      Mary    Jenkins  487544\n",
       "4    smith79        5079      Jamie     Smith  123248"
      ]
     },
     "execution_count": 8,
     "metadata": {},
     "output_type": "execute_result"
    }
   ],
   "source": [
    "# If u wan to delete any row \n",
    "csv1.drop(0, axis = 0)"
   ]
  },
  {
   "cell_type": "code",
   "execution_count": 12,
   "id": "11f1d844",
   "metadata": {},
   "outputs": [
    {
     "data": {
      "text/html": [
       "<div>\n",
       "<style scoped>\n",
       "    .dataframe tbody tr th:only-of-type {\n",
       "        vertical-align: middle;\n",
       "    }\n",
       "\n",
       "    .dataframe tbody tr th {\n",
       "        vertical-align: top;\n",
       "    }\n",
       "\n",
       "    .dataframe thead th {\n",
       "        text-align: right;\n",
       "    }\n",
       "</style>\n",
       "<table border=\"1\" class=\"dataframe\">\n",
       "  <thead>\n",
       "    <tr style=\"text-align: right;\">\n",
       "      <th></th>\n",
       "      <th>Identifier</th>\n",
       "      <th>First name</th>\n",
       "      <th>Last name</th>\n",
       "      <th>Salary</th>\n",
       "    </tr>\n",
       "  </thead>\n",
       "  <tbody>\n",
       "    <tr>\n",
       "      <th>0</th>\n",
       "      <td>9012</td>\n",
       "      <td>Rachel</td>\n",
       "      <td>Booker</td>\n",
       "      <td>1234</td>\n",
       "    </tr>\n",
       "    <tr>\n",
       "      <th>1</th>\n",
       "      <td>grey07</td>\n",
       "      <td>dheeraj</td>\n",
       "      <td>Grey</td>\n",
       "      <td>54678</td>\n",
       "    </tr>\n",
       "    <tr>\n",
       "      <th>2</th>\n",
       "      <td>4081</td>\n",
       "      <td>Craig</td>\n",
       "      <td>Johnson</td>\n",
       "      <td>782156</td>\n",
       "    </tr>\n",
       "    <tr>\n",
       "      <th>3</th>\n",
       "      <td>9346</td>\n",
       "      <td>Mary</td>\n",
       "      <td>Jenkins</td>\n",
       "      <td>487544</td>\n",
       "    </tr>\n",
       "    <tr>\n",
       "      <th>4</th>\n",
       "      <td>5079</td>\n",
       "      <td>Jamie</td>\n",
       "      <td>Smith</td>\n",
       "      <td>123248</td>\n",
       "    </tr>\n",
       "  </tbody>\n",
       "</table>\n",
       "</div>"
      ],
      "text/plain": [
       "  Identifier First name Last name  Salary\n",
       "0       9012     Rachel    Booker    1234\n",
       "1    grey07     dheeraj      Grey   54678\n",
       "2       4081      Craig   Johnson  782156\n",
       "3       9346      Mary    Jenkins  487544\n",
       "4       5079      Jamie     Smith  123248"
      ]
     },
     "execution_count": 12,
     "metadata": {},
     "output_type": "execute_result"
    }
   ],
   "source": [
    "# Iff u want to drop any column\n",
    "csv1.drop(\"Username \", axis = 1)\n"
   ]
  }
 ],
 "metadata": {
  "kernelspec": {
   "display_name": "Python 3 (ipykernel)",
   "language": "python",
   "name": "python3"
  },
  "language_info": {
   "codemirror_mode": {
    "name": "ipython",
    "version": 3
   },
   "file_extension": ".py",
   "mimetype": "text/x-python",
   "name": "python",
   "nbconvert_exporter": "python",
   "pygments_lexer": "ipython3",
   "version": "3.11.5"
  }
 },
 "nbformat": 4,
 "nbformat_minor": 5
}
