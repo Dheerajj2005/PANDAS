{
 "cells": [
  {
   "cell_type": "markdown",
   "id": "da9f0412",
   "metadata": {},
   "source": [
    "## CSV Files"
   ]
  },
  {
   "cell_type": "markdown",
   "id": "d050cc27",
   "metadata": {},
   "source": [
    "**Differences between CSV and XLS (excel) file formats :** <br>\n",
    "<br>\n",
    "➢ CSV format is a plain text format in which values are separated by commas (Comma Separated Values). <br>\n",
    "<br>\n",
    "➢ XLS file format is an Excel Sheets binary file format which holds information about all the worksheets in a file, including bothnt and formatting. "
   ]
  },
  {
   "cell_type": "code",
   "execution_count": 1,
   "id": "90ddb47d",
   "metadata": {},
   "outputs": [
    {
     "data": {
      "text/html": [
       "<div>\n",
       "<style scoped>\n",
       "    .dataframe tbody tr th:only-of-type {\n",
       "        vertical-align: middle;\n",
       "    }\n",
       "\n",
       "    .dataframe tbody tr th {\n",
       "        vertical-align: top;\n",
       "    }\n",
       "\n",
       "    .dataframe thead th {\n",
       "        text-align: right;\n",
       "    }\n",
       "</style>\n",
       "<table border=\"1\" class=\"dataframe\">\n",
       "  <thead>\n",
       "    <tr style=\"text-align: right;\">\n",
       "      <th></th>\n",
       "      <th>A</th>\n",
       "      <th>S</th>\n",
       "      <th>D</th>\n",
       "    </tr>\n",
       "  </thead>\n",
       "  <tbody>\n",
       "    <tr>\n",
       "      <th>0</th>\n",
       "      <td>1</td>\n",
       "      <td>1</td>\n",
       "      <td>1</td>\n",
       "    </tr>\n",
       "    <tr>\n",
       "      <th>1</th>\n",
       "      <td>2</td>\n",
       "      <td>2</td>\n",
       "      <td>2</td>\n",
       "    </tr>\n",
       "    <tr>\n",
       "      <th>2</th>\n",
       "      <td>3</td>\n",
       "      <td>3</td>\n",
       "      <td>3</td>\n",
       "    </tr>\n",
       "    <tr>\n",
       "      <th>3</th>\n",
       "      <td>4</td>\n",
       "      <td>4</td>\n",
       "      <td>4</td>\n",
       "    </tr>\n",
       "    <tr>\n",
       "      <th>4</th>\n",
       "      <td>5</td>\n",
       "      <td>5</td>\n",
       "      <td>5</td>\n",
       "    </tr>\n",
       "    <tr>\n",
       "      <th>5</th>\n",
       "      <td>6</td>\n",
       "      <td>6</td>\n",
       "      <td>6</td>\n",
       "    </tr>\n",
       "  </tbody>\n",
       "</table>\n",
       "</div>"
      ],
      "text/plain": [
       "   A  S  D\n",
       "0  1  1  1\n",
       "1  2  2  2\n",
       "2  3  3  3\n",
       "3  4  4  4\n",
       "4  5  5  5\n",
       "5  6  6  6"
      ]
     },
     "execution_count": 1,
     "metadata": {},
     "output_type": "execute_result"
    }
   ],
   "source": [
    "import pandas as pd \n",
    "dis = {\"A\":[1, 2, 3, 4, 5, 6],\"S\":[1, 2, 3, 4, 5, 6],\"D\":[1, 2, 3, 4, 5, 6]}\n",
    "\n",
    "var = pd.DataFrame(dis)\n",
    "\n",
    "var"
   ]
  },
  {
   "cell_type": "code",
   "execution_count": 2,
   "id": "35e2785f",
   "metadata": {},
   "outputs": [],
   "source": [
    "# Syntax to Create a CSV file\n",
    "# DataFrame.to_csv( \" name.csv\")\n",
    "\n",
    "var.to_csv(\"Test_new.csv\")\n",
    "\n",
    "# u can open this file after going in this folder and open it in EXcel"
   ]
  },
  {
   "cell_type": "code",
   "execution_count": 3,
   "id": "72227453",
   "metadata": {},
   "outputs": [],
   "source": [
    "# But in excel there's already row and column number so there's no need  of index number so u can turn it off\n",
    "# Make a new csv file \n",
    "\n",
    "var.to_csv(\"Test_new1.csv\",index = False)"
   ]
  },
  {
   "cell_type": "code",
   "execution_count": 4,
   "id": "ee5b4dda",
   "metadata": {},
   "outputs": [],
   "source": [
    "# If you want to remove header like A, s, D put header = False or to change header = [1, 2, 3]\n",
    "\n",
    "var.to_csv(\"Test_new2.csv\",index = False, header = [1, 2, 3])"
   ]
  },
  {
   "cell_type": "code",
   "execution_count": null,
   "id": "bf3c1e42",
   "metadata": {},
   "outputs": [],
   "source": []
  }
 ],
 "metadata": {
  "kernelspec": {
   "display_name": "Python 3 (ipykernel)",
   "language": "python",
   "name": "python3"
  },
  "language_info": {
   "codemirror_mode": {
    "name": "ipython",
    "version": 3
   },
   "file_extension": ".py",
   "mimetype": "text/x-python",
   "name": "python",
   "nbconvert_exporter": "python",
   "pygments_lexer": "ipython3",
   "version": "3.11.5"
  }
 },
 "nbformat": 4,
 "nbformat_minor": 5
}
