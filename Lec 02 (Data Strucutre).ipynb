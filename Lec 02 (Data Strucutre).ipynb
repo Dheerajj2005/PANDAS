{
 "cells": [
  {
   "cell_type": "markdown",
   "id": "5d5fa47e",
   "metadata": {},
   "source": [
    "## Data Structure"
   ]
  },
  {
   "cell_type": "markdown",
   "id": "88fa6cee",
   "metadata": {},
   "source": [
    "**Mainly there are 3 type of data structure** <br>\n",
    "1) Series <br>\n",
    "2) DataFrame <br>\n",
    "3) Panel <br>"
   ]
  },
  {
   "cell_type": "markdown",
   "id": "b284b039",
   "metadata": {},
   "source": [
    "**Series** <br>\n",
    "1) It is defined as one-dimensional array that is capable of storing various data <br>\n",
    "2) Syntax : <br>\n",
    "      import pandas as pd <br>\n",
    "      a = pd.series() <br>\n",
    "      print(a) <br>"
   ]
  },
  {
   "cell_type": "code",
   "execution_count": 6,
   "id": "56dd0436",
   "metadata": {},
   "outputs": [
    {
     "name": "stdout",
     "output_type": "stream",
     "text": [
      "0    2\n",
      "1    3\n",
      "2    5\n",
      "3    6\n",
      "4    4\n",
      "dtype: int64\n",
      "<class 'pandas.core.series.Series'>\n",
      "\n",
      "5\n"
     ]
    }
   ],
   "source": [
    "import pandas as pd\n",
    "\n",
    "x = [2, 3, 5, 6, 4]\n",
    "\n",
    "var = pd.Series(x)\n",
    "\n",
    "# It have index as well as value and indicate int64 value\n",
    "print(var)\n",
    "\n",
    "# To know the type of series\n",
    "print(type(var))\n",
    "print()\n",
    "\n",
    "# To acess any specific data u can use index number\n",
    "print(var[2])"
   ]
  },
  {
   "cell_type": "code",
   "execution_count": 10,
   "id": "cb8a2ada",
   "metadata": {},
   "outputs": [
    {
     "name": "stdout",
     "output_type": "stream",
     "text": [
      "a    5.0\n",
      "b    6.0\n",
      "c    2.0\n",
      "d    3.0\n",
      "Name: python, dtype: float64\n"
     ]
    }
   ],
   "source": [
    "# How to change the index type as well as data type and also u can give name \n",
    "y = [5, 6, 2, 3]\n",
    "\n",
    "var1 = pd.Series(y, index = ['a','b','c','d'], dtype = \"float\", name = \"python\")\n",
    "\n",
    "print(var1)"
   ]
  },
  {
   "cell_type": "code",
   "execution_count": 13,
   "id": "07ceaadf",
   "metadata": {},
   "outputs": [
    {
     "name": "stdout",
     "output_type": "stream",
     "text": [
      "name    [Python, C, C++, Java]\n",
      "por           [12, 13, 14, 15]\n",
      "rank              [1, 4, 3, 2]\n",
      "dtype: object\n"
     ]
    }
   ],
   "source": [
    "# u can pass any data type other than list like dictionary ,tupule\n",
    "dic = { \"name\":['Python','C','C++','Java'], \"por\":[12, 13, 14, 15], \"rank\":[1, 4, 3, 2]}\n",
    "\n",
    "var2 = pd.Series(dic)\n",
    "\n",
    "print(var2)\n",
    "\n",
    "# Datatype here is object because in dic u have used various data type like string, float, cgaracter"
   ]
  },
  {
   "cell_type": "code",
   "execution_count": 15,
   "id": "9b53224f",
   "metadata": {},
   "outputs": [
    {
     "name": "stdout",
     "output_type": "stream",
     "text": [
      "1    12\n",
      "2    12\n",
      "3    12\n",
      "4    12\n",
      "5    12\n",
      "6    12\n",
      "7    12\n",
      "dtype: int64\n"
     ]
    }
   ],
   "source": [
    "# If u want multiple block of same number you can specify index \n",
    "s = pd.Series(12, index = [1, 2, 3, 4, 5, 6, 7])\n",
    "print(s)"
   ]
  },
  {
   "cell_type": "code",
   "execution_count": 16,
   "id": "a6a4f039",
   "metadata": {},
   "outputs": [
    {
     "name": "stdout",
     "output_type": "stream",
     "text": [
      "1    24.0\n",
      "2    24.0\n",
      "3    24.0\n",
      "4    24.0\n",
      "5     NaN\n",
      "6     NaN\n",
      "7     NaN\n",
      "dtype: float64\n"
     ]
    }
   ],
   "source": [
    "s1 = pd.Series(12, index = [1, 2, 3, 4, 5, 6, 7])\n",
    "s2 = pd.Series(12, index = [1, 2, 3, 4])\n",
    "print(s1 + s2)\n",
    "# Here if u see after addition till 4 only after this you get null bcuz no element is available but here addition is \n",
    "# performed in pandas whereas in numpy u will get broadcasting error for same problem"
   ]
  }
 ],
 "metadata": {
  "kernelspec": {
   "display_name": "Python 3 (ipykernel)",
   "language": "python",
   "name": "python3"
  },
  "language_info": {
   "codemirror_mode": {
    "name": "ipython",
    "version": 3
   },
   "file_extension": ".py",
   "mimetype": "text/x-python",
   "name": "python",
   "nbconvert_exporter": "python",
   "pygments_lexer": "ipython3",
   "version": "3.11.5"
  }
 },
 "nbformat": 4,
 "nbformat_minor": 5
}
